{
 "cells": [
  {
   "cell_type": "markdown",
   "metadata": {},
   "source": [
    "# Intrduction to NumPy\n",
    "\n",
    "\n",
    "#### 1. Import NumPy under the name np."
   ]
  },
  {
   "cell_type": "code",
   "execution_count": 1,
   "metadata": {},
   "outputs": [],
   "source": [
    "# your code here\n",
    "import numpy as np"
   ]
  },
  {
   "cell_type": "markdown",
   "metadata": {},
   "source": [
    "#### 2. Print your NumPy version."
   ]
  },
  {
   "cell_type": "code",
   "execution_count": 2,
   "metadata": {},
   "outputs": [
    {
     "name": "stdout",
     "output_type": "stream",
     "text": [
      "1.17.3\n"
     ]
    }
   ],
   "source": [
    "# your code here\n",
    "print(np.version.version)"
   ]
  },
  {
   "cell_type": "markdown",
   "metadata": {},
   "source": [
    "#### 3. Generate a 2x3x5 3-dimensional array with random values. Assign the array to variable *a*.\n",
    "**Challenge**: there are at least three easy ways that use numpy to generate random arrays. How many ways can you find?"
   ]
  },
  {
   "cell_type": "code",
   "execution_count": 3,
   "metadata": {},
   "outputs": [
    {
     "name": "stdout",
     "output_type": "stream",
     "text": [
      "[[[0.41580721 0.41580721 0.41580721 0.41580721 0.41580721]\n",
      "  [0.41580721 0.41580721 0.41580721 0.41580721 0.41580721]\n",
      "  [0.41580721 0.41580721 0.41580721 0.41580721 0.41580721]]\n",
      "\n",
      " [[0.41580721 0.41580721 0.41580721 0.41580721 0.41580721]\n",
      "  [0.41580721 0.41580721 0.41580721 0.41580721 0.41580721]\n",
      "  [0.41580721 0.41580721 0.41580721 0.41580721 0.41580721]]]\n"
     ]
    }
   ],
   "source": [
    "# Method 1\n",
    "a = np.full((2,3,5), np.random.random())\n",
    "print(a)"
   ]
  },
  {
   "cell_type": "code",
   "execution_count": 4,
   "metadata": {},
   "outputs": [
    {
     "name": "stdout",
     "output_type": "stream",
     "text": [
      "[[[0.86126832 0.34313151 0.44267808 0.32742993 0.81768907]\n",
      "  [0.82911302 0.86416595 0.61361754 0.17160476 0.75406051]\n",
      "  [0.56370183 0.54849675 0.18723881 0.1014041  0.91038811]]\n",
      "\n",
      " [[0.30970124 0.78225673 0.1460774  0.57572149 0.36309804]\n",
      "  [0.58271393 0.41462029 0.17664022 0.93344359 0.95114801]\n",
      "  [0.89475891 0.00235162 0.34782544 0.54934301 0.86715745]]]\n"
     ]
    }
   ],
   "source": [
    "# Method 2\n",
    "a = np.random.random((2,3,5))\n",
    "print(a)"
   ]
  },
  {
   "cell_type": "code",
   "execution_count": 5,
   "metadata": {},
   "outputs": [
    {
     "name": "stdout",
     "output_type": "stream",
     "text": [
      "[[[0.82773972 0.94588555 0.50613791 0.16623967 0.58113502]\n",
      "  [0.81931653 0.36103658 0.09331229 0.0016481  0.4760086 ]\n",
      "  [0.15566157 0.27787747 0.28519514 0.99001287 0.30659312]]\n",
      "\n",
      " [[0.19887564 0.7854187  0.73600153 0.21563679 0.14227911]\n",
      "  [0.3920094  0.7020292  0.4565794  0.02836779 0.64145586]\n",
      "  [0.38156677 0.33972491 0.75158348 0.17546113 0.10329371]]]\n"
     ]
    }
   ],
   "source": [
    "# Method 3\n",
    "a = np.random.rand(2,3,5)\n",
    "print(a)"
   ]
  },
  {
   "cell_type": "markdown",
   "metadata": {},
   "source": [
    "#### 4. Print *a*.\n"
   ]
  },
  {
   "cell_type": "code",
   "execution_count": 6,
   "metadata": {},
   "outputs": [
    {
     "name": "stdout",
     "output_type": "stream",
     "text": [
      "[[[0.82773972 0.94588555 0.50613791 0.16623967 0.58113502]\n",
      "  [0.81931653 0.36103658 0.09331229 0.0016481  0.4760086 ]\n",
      "  [0.15566157 0.27787747 0.28519514 0.99001287 0.30659312]]\n",
      "\n",
      " [[0.19887564 0.7854187  0.73600153 0.21563679 0.14227911]\n",
      "  [0.3920094  0.7020292  0.4565794  0.02836779 0.64145586]\n",
      "  [0.38156677 0.33972491 0.75158348 0.17546113 0.10329371]]]\n"
     ]
    }
   ],
   "source": [
    "# your code here\n",
    "print(a)"
   ]
  },
  {
   "cell_type": "markdown",
   "metadata": {},
   "source": [
    "#### 5. Create a 5x2x3 3-dimensional array with all values equaling 1. Assign the array to variable *b*."
   ]
  },
  {
   "cell_type": "code",
   "execution_count": 7,
   "metadata": {},
   "outputs": [],
   "source": [
    "# your code here\n",
    "b = np.ones((5,2,3), dtype=float)"
   ]
  },
  {
   "cell_type": "markdown",
   "metadata": {},
   "source": [
    "#### 6. Print *b*.\n"
   ]
  },
  {
   "cell_type": "code",
   "execution_count": 8,
   "metadata": {},
   "outputs": [
    {
     "name": "stdout",
     "output_type": "stream",
     "text": [
      "[[[1. 1. 1.]\n",
      "  [1. 1. 1.]]\n",
      "\n",
      " [[1. 1. 1.]\n",
      "  [1. 1. 1.]]\n",
      "\n",
      " [[1. 1. 1.]\n",
      "  [1. 1. 1.]]\n",
      "\n",
      " [[1. 1. 1.]\n",
      "  [1. 1. 1.]]\n",
      "\n",
      " [[1. 1. 1.]\n",
      "  [1. 1. 1.]]]\n"
     ]
    }
   ],
   "source": [
    "# your code here\n",
    "print(b)"
   ]
  },
  {
   "cell_type": "markdown",
   "metadata": {},
   "source": [
    "#### 7. Do *a* and *b* have the same size? How do you prove that in Python code?"
   ]
  },
  {
   "cell_type": "code",
   "execution_count": 9,
   "metadata": {},
   "outputs": [
    {
     "name": "stdout",
     "output_type": "stream",
     "text": [
      "True\n"
     ]
    }
   ],
   "source": [
    "# your code here\n",
    "# a and b have the same size (same number of total elements) but not the same shape\n",
    "print(a.size == b.size)"
   ]
  },
  {
   "cell_type": "markdown",
   "metadata": {},
   "source": [
    "#### 8. Are you able to add *a* and *b*? Why or why not?\n"
   ]
  },
  {
   "cell_type": "code",
   "execution_count": 10,
   "metadata": {},
   "outputs": [
    {
     "ename": "ValueError",
     "evalue": "operands could not be broadcast together with shapes (2,3,5) (5,2,3) ",
     "output_type": "error",
     "traceback": [
      "\u001b[0;31m---------------------------------------------------------------------------\u001b[0m",
      "\u001b[0;31mValueError\u001b[0m                                Traceback (most recent call last)",
      "\u001b[0;32m<ipython-input-10-019df6d170f2>\u001b[0m in \u001b[0;36m<module>\u001b[0;34m\u001b[0m\n\u001b[1;32m      1\u001b[0m \u001b[0;31m# your answer here\u001b[0m\u001b[0;34m\u001b[0m\u001b[0;34m\u001b[0m\u001b[0;34m\u001b[0m\u001b[0m\n\u001b[0;32m----> 2\u001b[0;31m \u001b[0mprint\u001b[0m\u001b[0;34m(\u001b[0m\u001b[0ma\u001b[0m\u001b[0;34m+\u001b[0m\u001b[0mb\u001b[0m\u001b[0;34m)\u001b[0m\u001b[0;34m\u001b[0m\u001b[0;34m\u001b[0m\u001b[0m\n\u001b[0m\u001b[1;32m      3\u001b[0m \u001b[0;34m\u001b[0m\u001b[0m\n\u001b[1;32m      4\u001b[0m \u001b[0;31m# add fails because array dimensions do not match up:\u001b[0m\u001b[0;34m\u001b[0m\u001b[0;34m\u001b[0m\u001b[0;34m\u001b[0m\u001b[0m\n\u001b[1;32m      5\u001b[0m \u001b[0;31m# a has 2 rows, b has 5 rows\u001b[0m\u001b[0;34m\u001b[0m\u001b[0;34m\u001b[0m\u001b[0;34m\u001b[0m\u001b[0m\n",
      "\u001b[0;31mValueError\u001b[0m: operands could not be broadcast together with shapes (2,3,5) (5,2,3) "
     ]
    }
   ],
   "source": [
    "# your answer here\n",
    "print(a+b)\n",
    "\n",
    "# add fails because array dimensions do not match up:\n",
    "# a has 2 rows, b has 5 rows\n",
    "# a has 3 columns, b has 2 columns\n",
    "# a has 5 third-dimension elements, b has 3"
   ]
  },
  {
   "cell_type": "markdown",
   "metadata": {},
   "source": [
    "#### 9. Transpose *b* so that it has the same structure of *a* (i.e. become a 2x3x5 array). Assign the transposed array to variable *c*."
   ]
  },
  {
   "cell_type": "code",
   "execution_count": 11,
   "metadata": {},
   "outputs": [],
   "source": [
    "# your code here\n",
    "c = b.transpose()"
   ]
  },
  {
   "cell_type": "markdown",
   "metadata": {},
   "source": [
    "#### 10. Try to add *a* and *c*. Now it should work. Assign the sum to variable *d*. But why does it work now?"
   ]
  },
  {
   "cell_type": "code",
   "execution_count": 12,
   "metadata": {},
   "outputs": [],
   "source": [
    "# your code/answer here\n",
    "\n",
    "# d = a+c\n",
    "# add fails because the transposed array dimensions are (3,2,5)\n",
    "# and array a has shape (2,3,5)\n",
    "# for addition to work, b must have shape (5,3,2)\n",
    "b = np.ones((5,3,2), dtype=float)\n",
    "c = b.transpose()\n",
    "d = a + c"
   ]
  },
  {
   "cell_type": "markdown",
   "metadata": {},
   "source": [
    "#### 11. Print *a* and *d*. Notice the difference and relation of the two array in terms of the values? Explain."
   ]
  },
  {
   "cell_type": "code",
   "execution_count": 13,
   "metadata": {},
   "outputs": [
    {
     "name": "stdout",
     "output_type": "stream",
     "text": [
      "[[[0.82773972 0.94588555 0.50613791 0.16623967 0.58113502]\n",
      "  [0.81931653 0.36103658 0.09331229 0.0016481  0.4760086 ]\n",
      "  [0.15566157 0.27787747 0.28519514 0.99001287 0.30659312]]\n",
      "\n",
      " [[0.19887564 0.7854187  0.73600153 0.21563679 0.14227911]\n",
      "  [0.3920094  0.7020292  0.4565794  0.02836779 0.64145586]\n",
      "  [0.38156677 0.33972491 0.75158348 0.17546113 0.10329371]]]\n",
      "[[[1.82773972 1.94588555 1.50613791 1.16623967 1.58113502]\n",
      "  [1.81931653 1.36103658 1.09331229 1.0016481  1.4760086 ]\n",
      "  [1.15566157 1.27787747 1.28519514 1.99001287 1.30659312]]\n",
      "\n",
      " [[1.19887564 1.7854187  1.73600153 1.21563679 1.14227911]\n",
      "  [1.3920094  1.7020292  1.4565794  1.02836779 1.64145586]\n",
      "  [1.38156677 1.33972491 1.75158348 1.17546113 1.10329371]]]\n"
     ]
    }
   ],
   "source": [
    "# your code/answer here\n",
    "print(a)\n",
    "print(d)\n",
    "\n",
    "# each value in d is equal to the corresponding value in a plus 1"
   ]
  },
  {
   "cell_type": "markdown",
   "metadata": {},
   "source": [
    "#### 12. Multiply *a* and *c*. Assign the result to *e*."
   ]
  },
  {
   "cell_type": "code",
   "execution_count": 14,
   "metadata": {},
   "outputs": [
    {
     "name": "stdout",
     "output_type": "stream",
     "text": [
      "[[[0.82773972 0.94588555 0.50613791 0.16623967 0.58113502]\n",
      "  [0.81931653 0.36103658 0.09331229 0.0016481  0.4760086 ]\n",
      "  [0.15566157 0.27787747 0.28519514 0.99001287 0.30659312]]\n",
      "\n",
      " [[0.19887564 0.7854187  0.73600153 0.21563679 0.14227911]\n",
      "  [0.3920094  0.7020292  0.4565794  0.02836779 0.64145586]\n",
      "  [0.38156677 0.33972491 0.75158348 0.17546113 0.10329371]]]\n"
     ]
    }
   ],
   "source": [
    "# your code here\n",
    "e = a*c\n",
    "print(e)"
   ]
  },
  {
   "cell_type": "markdown",
   "metadata": {},
   "source": [
    "#### 13. Does *e* equal to *a*? Why or why not?\n"
   ]
  },
  {
   "cell_type": "code",
   "execution_count": 15,
   "metadata": {},
   "outputs": [
    {
     "name": "stdout",
     "output_type": "stream",
     "text": [
      "[[[ True  True  True  True  True]\n",
      "  [ True  True  True  True  True]\n",
      "  [ True  True  True  True  True]]\n",
      "\n",
      " [[ True  True  True  True  True]\n",
      "  [ True  True  True  True  True]\n",
      "  [ True  True  True  True  True]]]\n"
     ]
    }
   ],
   "source": [
    "# your code/answer here\n",
    "print(a == e)\n",
    "# all values in c are equal to 1 (value*1=value)"
   ]
  },
  {
   "cell_type": "markdown",
   "metadata": {},
   "source": [
    "#### 14. Identify the max, min, and mean values in *d*. Assign those values to variables *d_max*, *d_min* and *d_mean*."
   ]
  },
  {
   "cell_type": "code",
   "execution_count": 16,
   "metadata": {},
   "outputs": [
    {
     "name": "stdout",
     "output_type": "stream",
     "text": [
      "1.990012866804334\n",
      "1.0016481014598708\n",
      "1.4281361190558342\n"
     ]
    }
   ],
   "source": [
    "# your code here\n",
    "d_max = d.max()\n",
    "d_min = d.min()\n",
    "d_mean = d.mean()\n",
    "\n",
    "print(d_max)\n",
    "print(d_min)\n",
    "print(d_mean)"
   ]
  },
  {
   "cell_type": "markdown",
   "metadata": {},
   "source": [
    "#### 15. Now we want to label the values in *d*. First create an empty array *f* with the same shape (i.e. 2x3x5) as *d* using `np.empty`.\n"
   ]
  },
  {
   "cell_type": "code",
   "execution_count": 17,
   "metadata": {},
   "outputs": [],
   "source": [
    "# your code here\n",
    "f = np.empty((2,3,5))"
   ]
  },
  {
   "cell_type": "markdown",
   "metadata": {},
   "source": [
    "#### 16. Populate the values in *f*. \n",
    "\n",
    "For each value in *d*, if it's larger than *d_min* but smaller than *d_mean*, assign 25 to the corresponding value in *f*. If a value in *d* is larger than *d_mean* but smaller than *d_max*, assign 75 to the corresponding value in *f*. If a value equals to *d_mean*, assign 50 to the corresponding value in *f*. Assign 0 to the corresponding value(s) in *f* for *d_min* in *d*. Assign 100 to the corresponding value(s) in *f* for *d_max* in *d*. In the end, f should have only the following values: 0, 25, 50, 75, and 100.\n",
    "\n",
    "**Note**: you don't have to use Numpy in this question."
   ]
  },
  {
   "cell_type": "code",
   "execution_count": 18,
   "metadata": {},
   "outputs": [
    {
     "name": "stdout",
     "output_type": "stream",
     "text": [
      "[[[ 75.  75.  75.  25.  75.]\n",
      "  [ 75.  25.  25.   0.  75.]\n",
      "  [ 25.  25.  25. 100.  25.]]\n",
      "\n",
      " [[ 25.  75.  75.  25.  25.]\n",
      "  [ 25.  75.  75.  25.  75.]\n",
      "  [ 25.  25.  75.  25.  25.]]]\n"
     ]
    }
   ],
   "source": [
    "# your code here\n",
    "tup = d.shape\n",
    "for row in range(tup[0]):\n",
    "    for col in range(tup[1]):\n",
    "        for z in range(tup[2]):\n",
    "            if d[row,col,z]==d_min:\n",
    "                f[row,col,z] = 0\n",
    "            elif d[row,col,z]<d_mean:\n",
    "                f[row,col,z] = 25\n",
    "            elif d[row,col,z]==d_mean:\n",
    "                f[row,col,z] = 50\n",
    "            elif d[row,col,z]==d_max:\n",
    "                f[row,col,z] = 100\n",
    "            elif d[row,col,z]>d_mean:\n",
    "                f[row,col,z] = 75\n",
    "print(f)"
   ]
  },
  {
   "cell_type": "markdown",
   "metadata": {},
   "source": [
    "#### 17. Print *d* and *f*. Do you have your expected *f*?\n",
    "For instance, if your *d* is:\n",
    "```python\n",
    "[[[1.85836099, 1.67064465, 1.62576044, 1.40243961, 1.88454931],\n",
    "[1.75354326, 1.69403643, 1.36729252, 1.61415071, 1.12104981],\n",
    "[1.72201435, 1.1862918 , 1.87078449, 1.7726778 , 1.88180042]],\n",
    "[[1.44747908, 1.31673383, 1.02000951, 1.52218947, 1.97066381],\n",
    "[1.79129243, 1.74983003, 1.96028037, 1.85166831, 1.65450881],\n",
    "[1.18068344, 1.9587381 , 1.00656599, 1.93402165, 1.73514584]]]\n",
    "```\n",
    "Your *f* should be:\n",
    "```python\n",
    "[[[ 75.,  75.,  75.,  25.,  75.],\n",
    "[ 75.,  75.,  25.,  25.,  25.],\n",
    "[ 75.,  25.,  75.,  75.,  75.]],\n",
    "[[ 25.,  25.,  25.,  25., 100.],\n",
    "[ 75.,  75.,  75.,  75.,  75.],\n",
    "[ 25.,  75.,   0.,  75.,  75.]]]\n",
    "```"
   ]
  },
  {
   "cell_type": "code",
   "execution_count": 19,
   "metadata": {},
   "outputs": [
    {
     "name": "stdout",
     "output_type": "stream",
     "text": [
      "[[[1.82773972 1.94588555 1.50613791 1.16623967 1.58113502]\n",
      "  [1.81931653 1.36103658 1.09331229 1.0016481  1.4760086 ]\n",
      "  [1.15566157 1.27787747 1.28519514 1.99001287 1.30659312]]\n",
      "\n",
      " [[1.19887564 1.7854187  1.73600153 1.21563679 1.14227911]\n",
      "  [1.3920094  1.7020292  1.4565794  1.02836779 1.64145586]\n",
      "  [1.38156677 1.33972491 1.75158348 1.17546113 1.10329371]]]\n",
      "[[[ 75.  75.  75.  25.  75.]\n",
      "  [ 75.  25.  25.   0.  75.]\n",
      "  [ 25.  25.  25. 100.  25.]]\n",
      "\n",
      " [[ 25.  75.  75.  25.  25.]\n",
      "  [ 25.  75.  75.  25.  75.]\n",
      "  [ 25.  25.  75.  25.  25.]]]\n"
     ]
    }
   ],
   "source": [
    "# your code here\n",
    "print(d)\n",
    "print(f)"
   ]
  },
  {
   "cell_type": "markdown",
   "metadata": {},
   "source": [
    "#### 18. Bonus question: instead of using numbers (i.e. 0, 25, 50, 75, and 100), use string values  (\"A\", \"B\", \"C\", \"D\", and \"E\") to label the array elements. For the example above, the expected result is:\n",
    "\n",
    "```python\n",
    "[[[ 'D',  'D',  'D',  'B',  'D'],\n",
    "[ 'D',  'D',  'B',  'B',  'B'],\n",
    "[ 'D',  'B',  'D',  'D',  'D']],\n",
    "[[ 'B',  'B',  'B',  'B',  'E'],\n",
    "[ 'D',  'D',  'D',  'D',  'D'],\n",
    "[ 'B',  'D',   'A',  'D', 'D']]]\n",
    "```\n",
    "**Note**: you don't have to use Numpy in this question."
   ]
  },
  {
   "cell_type": "code",
   "execution_count": 20,
   "metadata": {},
   "outputs": [
    {
     "name": "stdout",
     "output_type": "stream",
     "text": [
      "[[['D' 'D' 'D' 'B' 'D']\n",
      "  ['D' 'B' 'B' 'A' 'D']\n",
      "  ['B' 'B' 'B' 'E' 'B']]\n",
      "\n",
      " [['B' 'D' 'D' 'B' 'B']\n",
      "  ['B' 'D' 'D' 'B' 'D']\n",
      "  ['B' 'B' 'D' 'B' 'B']]]\n"
     ]
    }
   ],
   "source": [
    "# your code here\n",
    "tup = d.shape\n",
    "g = np.empty(tup, dtype=\"object\")\n",
    "for row in range(tup[0]):\n",
    "    for col in range(tup[1]):\n",
    "        for z in range(tup[2]):\n",
    "            if d[row,col,z]==d_min:\n",
    "                g[row,col,z] = \"A\"\n",
    "            elif d[row,col,z]<d_mean:\n",
    "                g[row,col,z] = \"B\"\n",
    "            elif d[row,col,z]==d_mean:\n",
    "                g[row,col,z] = \"C\"\n",
    "            elif d[row,col,z]==d_max:\n",
    "                g[row,col,z] = \"E\"\n",
    "            elif d[row,col,z]>d_mean:\n",
    "                g[row,col,z] = \"D\"\n",
    "print(g)"
   ]
  }
 ],
 "metadata": {
  "kernelspec": {
   "display_name": "Python 3",
   "language": "python",
   "name": "python3"
  },
  "language_info": {
   "codemirror_mode": {
    "name": "ipython",
    "version": 3
   },
   "file_extension": ".py",
   "mimetype": "text/x-python",
   "name": "python",
   "nbconvert_exporter": "python",
   "pygments_lexer": "ipython3",
   "version": "3.7.4"
  }
 },
 "nbformat": 4,
 "nbformat_minor": 2
}
